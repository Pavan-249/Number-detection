{
 "cells": [
  {
   "cell_type": "code",
   "execution_count": 1,
   "metadata": {},
   "outputs": [],
   "source": [
    "import numpy as np\n",
    "import matplotlib.pyplot as plt\n",
    "import numpy as np\n",
    "import imutils\n",
    "import cv2\n",
    "import keras\n",
    "import time\n",
    "%matplotlib inline"
   ]
  },
  {
   "cell_type": "code",
   "execution_count": 2,
   "metadata": {},
   "outputs": [],
   "source": [
    "def process_img(img):\n",
    "    gray = cv2.cvtColor(img, cv2.COLOR_BGR2GRAY)\n",
    "    thresh = cv2.threshold(gray, 180, 255, cv2.THRESH_BINARY)[1]\n",
    "    kernel = cv2.getStructuringElement(cv2.MORPH_RECT, (9,9))\n",
    "    dilate = cv2.morphologyEx(thresh, cv2.MORPH_DILATE, kernel)\n",
    "    diff = cv2.absdiff(dilate, thresh)\n",
    "    return diff"
   ]
  },
  {
   "cell_type": "code",
   "execution_count": 3,
   "metadata": {},
   "outputs": [],
   "source": [
    "def background_identification1(frame,accumulated_weight):\n",
    "    global background1\n",
    "    if background1 is None:\n",
    "        background1 = frame.copy().astype('float')\n",
    "        return None\n",
    "    \n",
    "    cv2.accumulateWeighted(frame,background1,accumulated_weight1)"
   ]
  },
  {
   "cell_type": "code",
   "execution_count": 4,
   "metadata": {},
   "outputs": [],
   "source": [
    "greenLower = np.array([25, 52, 72])\n",
    "greenUpper = np.array([102, 255, 255])\n",
    "ty=0\n",
    "def segment(frame,background,threshold_min = 200):\n",
    "    hsv=cv2.cvtColor(frame,cv2.COLOR_BGR2HSV)\n",
    "    my_mask = cv2.inRange(hsv, greenLower,greenUpper) \n",
    "    diff=my_mask\n",
    "    ret,thresholded = cv2.threshold(diff,threshold_min,255,cv2.THRESH_BINARY)\n",
    "    kernel = np.ones((3,3),np.uint8)\n",
    "    thresholded = cv2.morphologyEx(thresholded,cv2.MORPH_CLOSE,kernel)\n",
    "    \n",
    "    contours,hierarchy = cv2.findContours(thresholded.copy(),cv2.RETR_EXTERNAL,cv2.CHAIN_APPROX_SIMPLE)\n",
    "    \n",
    "    if len(contours) == 0:\n",
    "        return None\n",
    "    else:\n",
    "        hand_segment = max(contours,key=cv2.contourArea)\n",
    "\n",
    "        cnt=contours[0]\n",
    "        (x,y),radius = cv2.minEnclosingCircle(cnt)\n",
    "        center = (int(x),int(y))\n",
    "        radius = int(radius)\n",
    "        return (thresholded,hand_segment,center)"
   ]
  },
  {
   "cell_type": "code",
   "execution_count": 5,
   "metadata": {},
   "outputs": [],
   "source": [
    "feature_params = dict( \n",
    "                       qualityLevel = 0.2,\n",
    "                       minDistance = 7,\n",
    "                       blockSize = 7 )\n",
    "  \n",
    "# Parameters for lucas kanade optical flow\n",
    "lk_params = dict( winSize = (15, 15),\n",
    "                  maxLevel = 2,\n",
    "                  criteria = (cv2.TERM_CRITERIA_EPS | cv2.TERM_CRITERIA_COUNT,10, 0.03))"
   ]
  },
  {
   "cell_type": "code",
   "execution_count": 38,
   "metadata": {},
   "outputs": [
    {
     "name": "stdout",
     "output_type": "stream",
     "text": [
      "Preparing the camera, gng to capture...\n",
      "3\n",
      "2\n",
      "1\n",
      "Capturing\n",
      "Capturing done , saved image successfully\n",
      "Now identifying the letter\n"
     ]
    },
    {
     "data": {
      "image/png": "[encoded data removed]",
      "text/plain": [
       "<Figure size 432x288 with 1 Axes>"
      ]
     },
     "metadata": {
      "needs_background": "light"
     },
     "output_type": "display_data"
    }
   ],
   "source": [
    "num_frames=0\n",
    "background1 = None\n",
    "accumulated_weight1 = 0.5\n",
    "cap = cv2.VideoCapture(0)\n",
    "\n",
    "\n",
    "print(\"Preparing the camera, gng to capture...\")\n",
    "time.sleep(1)\n",
    "print(3)\n",
    "time.sleep(1)\n",
    "print(2)\n",
    "time.sleep(1)\n",
    "print(1)\n",
    "print('Capturing')\n",
    "time.sleep(1)\n",
    "ret, old_frame = cap.read()\n",
    "old_frame=cv2.flip(old_frame,1)\n",
    "old_gray,s1,s2 = segment(old_frame,background1)\n",
    "cv2.namedWindow('Face')\n",
    "gauss=cv2.GaussianBlur(old_gray,(5,5),cv2.BORDER_DEFAULT)\n",
    "\n",
    "p0 = cv2.goodFeaturesToTrack(gauss,1, mask = None,\n",
    "                             **feature_params)\n",
    "mask = np.zeros_like(old_frame)\n",
    "\n",
    "kernel = np.ones((3,3),np.uint8)\n",
    "\n",
    "canva=np.zeros((480,640))\n",
    "while True:\n",
    "    ret,frame = cap.read()\n",
    "    frame_copy = frame.copy()\n",
    "    frame_copy=cv2.flip(frame_copy,1)\n",
    "    \n",
    "    hand = segment(frame_copy,background1)\n",
    "    \n",
    "    \n",
    "    \n",
    "    if hand is not None:\n",
    "        thresholded , hand_segment,center = hand\n",
    "        gauss1=cv2.GaussianBlur(thresholded,(5,5),cv2.BORDER_DEFAULT)\n",
    "        p1, st, err = cv2.calcOpticalFlowPyrLK(old_gray,\n",
    "                                           gauss1,\n",
    "                                           p0, None,\n",
    "                                           **lk_params)\n",
    "  \n",
    "        # Select good points\n",
    "        if p1 is None or p0 is None:\n",
    "            print('Capturing done , saved image successfully')\n",
    "            print('Now identifying the letter')\n",
    "            numm_img=cv2.cvtColor(img,cv2.COLOR_BGR2RGB)\n",
    "            numm_img = cv2.erode(numm_img, kernel)\n",
    "            cv2.imwrite('text.jpg',numm_img)\n",
    "            kernel = np.ones((5, 5), np.uint8)\n",
    "  \n",
    "            # Using cv2.erode() method \n",
    "            \n",
    "            plt.imshow(numm_img)\n",
    "            break\n",
    "            \n",
    "        else:\n",
    "            good_new = p1[st == 1]\n",
    "            good_old = p0[st == 1]\n",
    "\n",
    "            # draw the tracks\n",
    "            for i, (new, old) in enumerate(zip(good_new, \n",
    "                                               good_old)):\n",
    "                a, b = new.ravel()\n",
    "                c, d = old.ravel()\n",
    "                a=int(a)\n",
    "                b=int(b)\n",
    "                c=int(c)\n",
    "                d=int(d)\n",
    "                mask = cv2.line(mask, (a, b), (c, d),\n",
    "                                (0,0,255), 2)\n",
    "\n",
    "                full_frame = cv2.circle(mask, (a, b), 15,\n",
    "                                   (0,0,255), -1)\n",
    "\n",
    "                img = cv2.add(full_frame, mask)\n",
    "            cv2.imshow('frame', img)\n",
    "\n",
    "    #         cv2.imshow('Finger Count',frame_copy)\n",
    "\n",
    "    #         if num_frames<60:\n",
    "    #             corners = cv2.goodFeaturesToTrack(thresholded,1,0.01,10)\n",
    "\n",
    "            corners = cv2.goodFeaturesToTrack(thresholded,1,0.01,10)\n",
    "            cv2.imshow('Face',frame_copy)\n",
    "           \n",
    "            \n",
    "    num_frames+=1\n",
    "    if cv2.waitKey(1)&0xff==ord('q'):\n",
    "        break\n",
    "    old_gray = thresholded.copy()\n",
    "    p0 = good_new.reshape(-1, 1, 2)\n",
    "        \n",
    "cap.release()\n",
    "cv2.destroyAllWindows()"
   ]
  },
  {
   "cell_type": "code",
   "execution_count": 39,
   "metadata": {},
   "outputs": [],
   "source": [
    "# pwd"
   ]
  },
  {
   "cell_type": "code",
   "execution_count": 40,
   "metadata": {},
   "outputs": [],
   "source": [
    "model = keras.models.load_model('MNIST_keras_CNN.h5')"
   ]
  },
  {
   "cell_type": "code",
   "execution_count": 41,
   "metadata": {},
   "outputs": [],
   "source": [
    "img = cv2.imread('text.jpg')\n",
    "img_copy = img.copy()\n",
    "img = cv2.cvtColor(img, cv2.COLOR_BGR2RGB)\n",
    "img = cv2.resize(img, (400,440))"
   ]
  },
  {
   "cell_type": "code",
   "execution_count": 42,
   "metadata": {},
   "outputs": [],
   "source": [
    "img_gray = cv2.cvtColor(img_copy, cv2.COLOR_BGR2GRAY)\n",
    "_, img_thresh = cv2.threshold(img_gray, 10, 255, cv2.THRESH_BINARY_INV)\n",
    "img_final = cv2.resize(img_thresh, (28,28),cv2.INTER_NEAREST)\n",
    "img_fin =np.reshape(img_final, (1,28,28,1))"
   ]
  },
  {
   "cell_type": "code",
   "execution_count": 43,
   "metadata": {},
   "outputs": [
    {
     "name": "stdout",
     "output_type": "stream",
     "text": [
      "WARNING:tensorflow:5 out of the last 9 calls to <function Model.make_predict_function.<locals>.predict_function at 0x000002CC8B420C80> triggered tf.function retracing. Tracing is expensive and the excessive number of tracings could be due to (1) creating @tf.function repeatedly in a loop, (2) passing tensors with different shapes, (3) passing Python objects instead of tensors. For (1), please define your @tf.function outside of the loop. For (2), @tf.function has experimental_relax_shapes=True option that relaxes argument shapes that can avoid unnecessary retracing. For (3), please refer to https://www.tensorflow.org/guide/function#controlling_retracing and https://www.tensorflow.org/api_docs/python/tf/function for  more details.\n",
      "The number I predicted is   8\n"
     ]
    }
   ],
   "source": [
    "print(\"The number I predicted is  \", np.argmax(model.predict(img_fin)))"
   ]
  },
  {
   "cell_type": "code",
   "execution_count": 44,
   "metadata": {},
   "outputs": [],
   "source": [
    "cv2.namedWindow('predicted letter')\n",
    "canvas=np.zeros((480,640,3))\n",
    "cv2.putText(canvas, str(np.argmax(model.predict(img_fin)))+\" was written\", (50,200), cv2.FONT_HERSHEY_SIMPLEX, 2, (255,0,0), 2, cv2.LINE_AA)\n",
    "\n",
    "while True:\n",
    "    cv2.imshow('predicted letter',canvas)\n",
    "    if cv2.waitKey(1)&0xff==ord('q'):\n",
    "        break\n",
    "cv2.destroyAllWindows()"
   ]
  },
  {
   "cell_type": "code",
   "execution_count": 45,
   "metadata": {},
   "outputs": [
    {
     "data": {
      "text/plain": [
       "<matplotlib.image.AxesImage at 0x2cc8c2f3080>"
      ]
     },
     "execution_count": 45,
     "metadata": {},
     "output_type": "execute_result"
    },
    {
     "data": {
      "image/png": "[encoded data removed]",
      "text/plain": [
       "<Figure size 432x288 with 1 Axes>"
      ]
     },
     "metadata": {
      "needs_background": "light"
     },
     "output_type": "display_data"
    }
   ],
   "source": [
    "plt.imshow(img_final)"
   ]
  },
  {
   "cell_type": "code",
   "execution_count": null,
   "metadata": {},
   "outputs": [],
   "source": []
  }
 ],
 "metadata": {
  "kernelspec": {
   "display_name": "Python 3",
   "language": "python",
   "name": "python3"
  },
  "language_info": {
   "codemirror_mode": {
    "name": "ipython",
    "version": 3
   },
   "file_extension": ".py",
   "mimetype": "text/x-python",
   "name": "python",
   "nbconvert_exporter": "python",
   "pygments_lexer": "ipython3",
   "version": "3.6.6"
  }
 },
 "nbformat": 4,
 "nbformat_minor": 2
}
